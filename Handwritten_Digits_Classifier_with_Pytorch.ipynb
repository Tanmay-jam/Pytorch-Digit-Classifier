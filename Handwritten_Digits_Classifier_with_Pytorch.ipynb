{
  "nbformat": 4,
  "nbformat_minor": 0,
  "metadata": {
    "colab": {
      "provenance": [],
      "gpuType": "T4",
      "authorship_tag": "ABX9TyNAB7+VdL8vMakdlFtbDXzQ",
      "include_colab_link": true
    },
    "kernelspec": {
      "name": "python3",
      "display_name": "Python 3"
    },
    "language_info": {
      "name": "python"
    }
  },
  "cells": [
    {
      "cell_type": "markdown",
      "metadata": {
        "id": "view-in-github",
        "colab_type": "text"
      },
      "source": [
        "<a href=\"https://colab.research.google.com/github/Tanmay-jam/Pytorch-Digit-Classifier/blob/main/Handwritten_Digits_Classifier_with_Pytorch.ipynb\" target=\"_parent\"><img src=\"https://colab.research.google.com/assets/colab-badge.svg\" alt=\"Open In Colab\"/></a>"
      ]
    },
    {
      "cell_type": "code",
      "execution_count": null,
      "metadata": {
        "id": "YVq187611lI3"
      },
      "outputs": [],
      "source": [
        "\n",
        "import torch\n",
        "import torch.nn as nn\n",
        "import torch.nn.functional as F\n",
        "import torch.optim as optim\n",
        "import torchvision\n",
        "import torchvision.transforms as transforms\n",
        "import matplotlib.pyplot as plt\n",
        "import numpy as np"
      ]
    },
    {
      "cell_type": "markdown",
      "source": [
        "**Loading Data**"
      ],
      "metadata": {
        "id": "HDsXPUL6sY7f"
      }
    },
    {
      "cell_type": "markdown",
      "source": [
        "The dataset is not normalized and hence mean and standard deviation of data is 0.1307 and 0.3081"
      ],
      "metadata": {
        "id": "IY5-yx6okpz4"
      }
    },
    {
      "cell_type": "markdown",
      "source": [
        "![image.png](data:image/png;base64,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)"
      ],
      "metadata": {
        "id": "jXUiNpjGkJ7Y"
      }
    },
    {
      "cell_type": "markdown",
      "source": [
        "While loading data we apply transforms.\n",
        "\n",
        "1. convert images to tensor\n",
        "2. Normalize dataset with mean=0.1307 and standar deviation=0.3081\n",
        "\n",
        "Normalization helps to get pixel values to optimal range and better comparison of values.\n",
        "\n",
        "Data is loaded into training set and testing set differently with batch size of 64. Getting data in batches makes training faster.\n"
      ],
      "metadata": {
        "id": "DhlXmLQ1lIN-"
      }
    },
    {
      "cell_type": "code",
      "source": [
        "# Define transforms\n",
        "transform = transforms.Compose([transforms.ToTensor(),\n",
        "                               transforms.Normalize((0.1307), (0.3081))\n",
        "                               ])\n",
        "\n",
        "# Create training set and define training dataloader\n",
        "trainset = torchvision.datasets.MNIST('MNIST_data/',download=True, train=True, transform=transform)\n",
        "traindataloader = torch.utils.data.DataLoader(trainset, batch_size=64, shuffle=True)\n",
        "\n",
        "# Create test set and define test dataloader\n",
        "testset = torchvision.datasets.MNIST('MNIST_data/',download=True, train=False, transform=transform)\n",
        "testdataloader = torch.utils.data.DataLoader(testset, batch_size=64, shuffle=True)"
      ],
      "metadata": {
        "id": "h-PSJQnm26om",
        "colab": {
          "base_uri": "https://localhost:8080/"
        },
        "outputId": "f12f37e1-22ba-46bb-b416-da43229b508b"
      },
      "execution_count": null,
      "outputs": [
        {
          "output_type": "stream",
          "name": "stdout",
          "text": [
            "Downloading http://yann.lecun.com/exdb/mnist/train-images-idx3-ubyte.gz\n",
            "Downloading http://yann.lecun.com/exdb/mnist/train-images-idx3-ubyte.gz to MNIST_data/MNIST/raw/train-images-idx3-ubyte.gz\n"
          ]
        },
        {
          "output_type": "stream",
          "name": "stderr",
          "text": [
            "100%|██████████| 9912422/9912422 [00:00<00:00, 87875058.38it/s]\n"
          ]
        },
        {
          "output_type": "stream",
          "name": "stdout",
          "text": [
            "Extracting MNIST_data/MNIST/raw/train-images-idx3-ubyte.gz to MNIST_data/MNIST/raw\n",
            "\n",
            "Downloading http://yann.lecun.com/exdb/mnist/train-labels-idx1-ubyte.gz\n",
            "Downloading http://yann.lecun.com/exdb/mnist/train-labels-idx1-ubyte.gz to MNIST_data/MNIST/raw/train-labels-idx1-ubyte.gz\n"
          ]
        },
        {
          "output_type": "stream",
          "name": "stderr",
          "text": [
            "100%|██████████| 28881/28881 [00:00<00:00, 31521127.72it/s]\n"
          ]
        },
        {
          "output_type": "stream",
          "name": "stdout",
          "text": [
            "Extracting MNIST_data/MNIST/raw/train-labels-idx1-ubyte.gz to MNIST_data/MNIST/raw\n",
            "\n",
            "Downloading http://yann.lecun.com/exdb/mnist/t10k-images-idx3-ubyte.gz\n",
            "Downloading http://yann.lecun.com/exdb/mnist/t10k-images-idx3-ubyte.gz to MNIST_data/MNIST/raw/t10k-images-idx3-ubyte.gz\n"
          ]
        },
        {
          "output_type": "stream",
          "name": "stderr",
          "text": [
            "100%|██████████| 1648877/1648877 [00:00<00:00, 28849029.92it/s]\n"
          ]
        },
        {
          "output_type": "stream",
          "name": "stdout",
          "text": [
            "Extracting MNIST_data/MNIST/raw/t10k-images-idx3-ubyte.gz to MNIST_data/MNIST/raw\n",
            "\n",
            "Downloading http://yann.lecun.com/exdb/mnist/t10k-labels-idx1-ubyte.gz\n",
            "Downloading http://yann.lecun.com/exdb/mnist/t10k-labels-idx1-ubyte.gz to MNIST_data/MNIST/raw/t10k-labels-idx1-ubyte.gz\n"
          ]
        },
        {
          "output_type": "stream",
          "name": "stderr",
          "text": [
            "100%|██████████| 4542/4542 [00:00<00:00, 3858725.70it/s]\n"
          ]
        },
        {
          "output_type": "stream",
          "name": "stdout",
          "text": [
            "Extracting MNIST_data/MNIST/raw/t10k-labels-idx1-ubyte.gz to MNIST_data/MNIST/raw\n",
            "\n"
          ]
        }
      ]
    },
    {
      "cell_type": "markdown",
      "source": [
        "Each batch contains 64 grayscale images with 28 by 28 pixels."
      ],
      "metadata": {
        "id": "WAt88qyfpyAN"
      }
    },
    {
      "cell_type": "markdown",
      "source": [
        "**Visualizing data**"
      ],
      "metadata": {
        "id": "xGWCdq4mr95C"
      }
    },
    {
      "cell_type": "code",
      "source": [
        "## This cell contains a function for showing 5 images from a dataloader##\n",
        "def show5(imgdataloader):\n",
        "    dataiter = iter(imgdataloader)\n",
        "\n",
        "    batch = next(dataiter)\n",
        "    labels = batch[1][0:5]\n",
        "    images = batch[0][0:5]\n",
        "    for i in range(5):\n",
        "        print(int(labels[i].detach()))\n",
        "\n",
        "        image = images[i].numpy()\n",
        "        plt.imshow(image.T.squeeze().T)\n",
        "        plt.show()"
      ],
      "metadata": {
        "id": "Pgnk2EMEfGfq"
      },
      "execution_count": null,
      "outputs": []
    },
    {
      "cell_type": "code",
      "source": [
        "# Explore data\n",
        "show5(traindataloader)"
      ],
      "metadata": {
        "colab": {
          "base_uri": "https://localhost:8080/",
          "height": 1000
        },
        "id": "6SxQ0Nlsth4A",
        "outputId": "5ec9b0a7-2e86-40e3-9ab5-e77cd8586267"
      },
      "execution_count": null,
      "outputs": [
        {
          "output_type": "stream",
          "name": "stdout",
          "text": [
            "7\n"
          ]
        },
        {
          "output_type": "display_data",
          "data": {
            "text/plain": [
              "<Figure size 640x480 with 1 Axes>"
            ],
            "image/png": "[encoded data removed]"
          },
          "metadata": {}
        },
        {
          "output_type": "stream",
          "name": "stdout",
          "text": [
            "2\n"
          ]
        },
        {
          "output_type": "display_data",
          "data": {
            "text/plain": [
              "<Figure size 640x480 with 1 Axes>"
            ],
            "image/png": "[encoded data removed]"
          },
          "metadata": {}
        },
        {
          "output_type": "stream",
          "name": "stdout",
          "text": [
            "0\n"
          ]
        },
        {
          "output_type": "display_data",
          "data": {
            "text/plain": [
              "<Figure size 640x480 with 1 Axes>"
            ],
            "image/png": "[encoded data removed]"
          },
          "metadata": {}
        },
        {
          "output_type": "stream",
          "name": "stdout",
          "text": [
            "1\n"
          ]
        },
        {
          "output_type": "display_data",
          "data": {
            "text/plain": [
              "<Figure size 640x480 with 1 Axes>"
            ],
            "image/png": "[encoded data removed]"
          },
          "metadata": {}
        },
        {
          "output_type": "stream",
          "name": "stdout",
          "text": [
            "7\n"
          ]
        },
        {
          "output_type": "display_data",
          "data": {
            "text/plain": [
              "<Figure size 640x480 with 1 Axes>"
            ],
            "image/png": "[encoded data removed]"
          },
          "metadata": {}
        }
      ]
    },
    {
      "cell_type": "markdown",
      "source": [
        "**Building Model**"
      ],
      "metadata": {
        "id": "O0J6rV5PsgtJ"
      }
    },
    {
      "cell_type": "code",
      "source": [
        "#Base Model\n",
        "class Network(nn.Module):\n",
        "    def __init__(self):\n",
        "        super().__init__()\n",
        "        self.hidden1 = nn.Linear(784, 256)\n",
        "        self.hidden2 = nn.Linear(256, 144)\n",
        "        self.output = nn.Linear(144, 10)\n",
        "        self.sigmoid = nn.Sigmoid()\n",
        "        self.softmax = nn.Softmax()\n",
        "        self.flat = nn.Flatten()\n",
        "\n",
        "    def forward(self, x):\n",
        "        x = self.flat(x)\n",
        "        x = self.hidden1(x)\n",
        "        x = self.sigmoid(x)\n",
        "        x = self.hidden2(x)\n",
        "        x = self.sigmoid(x)\n",
        "        x = self.output(x)\n",
        "        return x"
      ],
      "metadata": {
        "id": "XEv1yqvItpZP"
      },
      "execution_count": null,
      "outputs": []
    },
    {
      "cell_type": "code",
      "source": [
        "#model instansiation\n",
        "model = Network()\n",
        "\n",
        "#defining loss criterion and optimizer\n",
        "criterion = nn.CrossEntropyLoss()\n",
        "optimizer = optim.SGD(model.parameters(), lr=0.01)\n"
      ],
      "metadata": {
        "id": "T-8WH7lCt1MB"
      },
      "execution_count": null,
      "outputs": []
    },
    {
      "cell_type": "code",
      "source": [
        "#Training\n",
        "avg_loss = list()\n",
        "for epoch in range(10):\n",
        "    running_loss = 0.0\n",
        "    for i, (images, labels) in enumerate(traindataloader):\n",
        "        #forward pass\n",
        "        outputs = model(images)\n",
        "        loss = criterion(outputs, labels)\n",
        "\n",
        "        #backward pass and update weights.\n",
        "        optimizer.zero_grad()\n",
        "        loss.backward()\n",
        "        optimizer.step()\n",
        "\n",
        "        running_loss +=loss.item()\n",
        "    avg_loss.append(running_loss)\n",
        "    print(\"average loss in\", epoch,\" epoch: \",running_loss)"
      ],
      "metadata": {
        "colab": {
          "base_uri": "https://localhost:8080/"
        },
        "id": "Il4uXIVzt6V0",
        "outputId": "4e8629f8-78c4-41e2-b2a3-6c243234d14e"
      },
      "execution_count": null,
      "outputs": [
        {
          "output_type": "stream",
          "name": "stdout",
          "text": [
            "average loss in 0  epoch:  2129.0100486278534\n",
            "average loss in 1  epoch:  1971.6015065908432\n",
            "average loss in 2  epoch:  1474.242264509201\n",
            "average loss in 3  epoch:  1003.3990989923477\n",
            "average loss in 4  epoch:  754.3095051050186\n",
            "average loss in 5  epoch:  609.0221012234688\n",
            "average loss in 6  epoch:  519.9611622393131\n",
            "average loss in 7  epoch:  463.0048558115959\n",
            "average loss in 8  epoch:  423.76492370665073\n",
            "average loss in 9  epoch:  394.8622563779354\n"
          ]
        }
      ]
    },
    {
      "cell_type": "code",
      "source": [
        "#evaluate model on test set\n",
        "with torch.no_grad():\n",
        "  correct = 0\n",
        "  total = 0\n",
        "  for images, labels in testdataloader:\n",
        "    outputs = model(images)\n",
        "    j, predicted = torch.max(outputs.data, 1)\n",
        "    total += labels.size(0)\n",
        "    correct += (predicted == labels).sum().item()\n",
        "  print(\"Total images in test: \",total)\n",
        "  print(f'Accuracy of the model on 10000 test images: ', 100*correct/total)\n"
      ],
      "metadata": {
        "colab": {
          "base_uri": "https://localhost:8080/"
        },
        "id": "iYK0VWhFeYFb",
        "outputId": "d6bf03c1-faa3-4be1-85d1-c34eb99f1447"
      },
      "execution_count": null,
      "outputs": [
        {
          "output_type": "stream",
          "name": "stdout",
          "text": [
            "Total images in test:  10000\n",
            "Accuracy of the model on 10000 test images:  88.97\n"
          ]
        }
      ]
    },
    {
      "cell_type": "markdown",
      "source": [
        "**Improve Model**"
      ],
      "metadata": {
        "id": "1JvZPqufudJF"
      }
    },
    {
      "cell_type": "code",
      "source": [
        "class Network(nn.Module):\n",
        "    def __init__(self):\n",
        "        super().__init__()\n",
        "        self.hidden1 = nn.Linear(784, 256)\n",
        "        self.output = nn.Linear(256, 10)\n",
        "        self.sigmoid = nn.Sigmoid()\n",
        "        self.softmax = nn.Softmax()\n",
        "        self.flat = nn.Flatten()\n",
        "\n",
        "    def forward(self, x):\n",
        "        x = self.flat(x)\n",
        "        x = self.hidden1(x)\n",
        "        x = self.sigmoid(x)\n",
        "        x = self.output(x)\n",
        "        return x\n",
        "\n",
        "\n",
        "model = Network()\n",
        "criterion = nn.CrossEntropyLoss()\n",
        "optimizer = optim.SGD(model.parameters(), lr=0.01)\n",
        "\n",
        "\n",
        "#Training process\n",
        "avg_loss = list()\n",
        "for epoch in range(10):\n",
        "    running_loss = 0.0\n",
        "    for i, (images, labels) in enumerate(traindataloader):\n",
        "        #forward pass\n",
        "        outputs = model(images)\n",
        "        loss = criterion(outputs, labels)\n",
        "\n",
        "        #Zero gradients perform a backward pass and update weights.\n",
        "        optimizer.zero_grad()\n",
        "        loss.backward()\n",
        "        optimizer.step()\n",
        "\n",
        "        running_loss +=loss.item()\n",
        "    avg_loss.append(running_loss)\n",
        "    print(\"average loss in\", epoch,\" epoch: \",running_loss)\n",
        "\n",
        "\n",
        "\n",
        "#evaluate model on test set\n",
        "with torch.no_grad():\n",
        "  correct = 0\n",
        "  total = 0\n",
        "  for images, labels in testdataloader:\n",
        "    outputs = model(images)\n",
        "    j, predicted = torch.max(outputs.data, 1)\n",
        "    total += labels.size(0)\n",
        "    correct += (predicted == labels).sum().item()\n",
        "  print(\"Total images in test: \",total)\n",
        "  print(f'Accuracy of the model on 10000 test images: ', 100*correct/total)\n"
      ],
      "metadata": {
        "colab": {
          "base_uri": "https://localhost:8080/"
        },
        "id": "rbQG_-BwuoIc",
        "outputId": "5cd3f298-c47a-4bed-eee7-cdf8801381ae"
      },
      "execution_count": null,
      "outputs": [
        {
          "output_type": "stream",
          "name": "stdout",
          "text": [
            "average loss in 0  epoch:  1227.9580155611038\n",
            "average loss in 1  epoch:  543.9421864449978\n",
            "average loss in 2  epoch:  414.34070874750614\n",
            "average loss in 3  epoch:  362.2431325465441\n",
            "average loss in 4  epoch:  332.9767911732197\n",
            "average loss in 5  epoch:  313.183053471148\n",
            "average loss in 6  epoch:  298.65434750169516\n",
            "average loss in 7  epoch:  287.1069648936391\n",
            "average loss in 8  epoch:  277.2834868133068\n",
            "average loss in 9  epoch:  268.80497793853283\n",
            "Total images in test:  10000\n",
            "Accuracy of the model on 10000 test images:  92.19\n"
          ]
        }
      ]
    },
    {
      "cell_type": "markdown",
      "source": [
        "Removing second hidden layer causes increase in acuuracy from 88.97% to 92.19%"
      ],
      "metadata": {
        "id": "cBA_fthduktZ"
      }
    },
    {
      "cell_type": "code",
      "source": [
        "class Network(nn.Module):\n",
        "    def __init__(self):\n",
        "        super().__init__()\n",
        "        self.hidden1 = nn.Linear(784, 256)\n",
        "        self.output = nn.Linear(256, 10)\n",
        "        self.sigmoid = nn.Sigmoid()\n",
        "        self.tanh = nn.Tanh()\n",
        "        self.softmax = nn.Softmax()\n",
        "        self.flat = nn.Flatten()\n",
        "\n",
        "    def forward(self, x):\n",
        "        x = self.flat(x)\n",
        "        x = self.hidden1(x)\n",
        "        x = self.tanh(x)\n",
        "        x = self.output(x)\n",
        "        return x\n",
        "\n",
        "\n",
        "model = Network()\n",
        "criterion = nn.CrossEntropyLoss()\n",
        "optimizer = optim.SGD(model.parameters(), lr=0.01)\n",
        "\n",
        "\n",
        "#Training process\n",
        "avg_loss = list()\n",
        "for epoch in range(10):\n",
        "    running_loss = 0.0\n",
        "    for i, (images, labels) in enumerate(traindataloader):\n",
        "        #forward pass\n",
        "        outputs = model(images)\n",
        "        loss = criterion(outputs, labels)\n",
        "\n",
        "        #Zero gradients perform a backward pass and update weights.\n",
        "        optimizer.zero_grad()\n",
        "        loss.backward()\n",
        "        optimizer.step()\n",
        "\n",
        "        running_loss +=loss.item()\n",
        "    avg_loss.append(running_loss)\n",
        "    print(\"average loss in\", epoch,\" epoch: \",running_loss)\n",
        "\n",
        "\n",
        "\n",
        "#evaluate model on test set\n",
        "with torch.no_grad():\n",
        "  correct = 0\n",
        "  total = 0\n",
        "  for images, labels in testdataloader:\n",
        "    outputs = model(images)\n",
        "    j, predicted = torch.max(outputs.data, 1)\n",
        "    total += labels.size(0)\n",
        "    correct += (predicted == labels).sum().item()\n",
        "  print(\"Total images in test: \",total)\n",
        "  print(f'Accuracy of the model on 10000 test images: ', 100*correct/total)\n"
      ],
      "metadata": {
        "colab": {
          "base_uri": "https://localhost:8080/"
        },
        "id": "HIQ0HJsGwn8P",
        "outputId": "4c6e4b6d-76a9-4c5f-8d23-481f5e787569"
      },
      "execution_count": null,
      "outputs": [
        {
          "output_type": "stream",
          "name": "stdout",
          "text": [
            "average loss in 0  epoch:  540.8967307209969\n",
            "average loss in 1  epoch:  299.3748975172639\n",
            "average loss in 2  epoch:  258.7210967466235\n",
            "average loss in 3  epoch:  232.093293517828\n",
            "average loss in 4  epoch:  210.71368922293186\n",
            "average loss in 5  epoch:  192.92756181955338\n",
            "average loss in 6  epoch:  177.59334887564182\n",
            "average loss in 7  epoch:  164.63717629387975\n",
            "average loss in 8  epoch:  152.9615431819111\n",
            "average loss in 9  epoch:  143.05574953183532\n",
            "Total images in test:  10000\n",
            "Accuracy of the model on 10000 test images:  95.52\n"
          ]
        }
      ]
    },
    {
      "cell_type": "markdown",
      "source": [
        "Replacing sigmoid activation function with tanh increses accuracy on test data from 92.19% to 95.52%"
      ],
      "metadata": {
        "id": "9D8uFAPmw9rK"
      }
    },
    {
      "cell_type": "code",
      "source": [
        "class Network(nn.Module):\n",
        "    def __init__(self):\n",
        "        super().__init__()\n",
        "        self.hidden1 = nn.Linear(784, 256)\n",
        "        self.output = nn.Linear(256, 10)\n",
        "        self.sigmoid = nn.Sigmoid()\n",
        "        self.tanh = nn.Tanh()\n",
        "        self.logsoftmax = nn.LogSoftmax()\n",
        "        self.flat = nn.Flatten()\n",
        "\n",
        "    def forward(self, x):\n",
        "        x = self.flat(x)\n",
        "        x = self.hidden1(x)\n",
        "        x = self.tanh(x)\n",
        "        x = self.output(x)\n",
        "        return x\n",
        "\n",
        "\n",
        "model = Network()\n",
        "criterion = nn.CrossEntropyLoss()\n",
        "optimizer = optim.SGD(model.parameters(), lr=0.01)\n",
        "\n",
        "\n",
        "#Training\n",
        "avg_loss = list()\n",
        "for epoch in range(15):\n",
        "    running_loss = 0.0\n",
        "    for i, (images, labels) in enumerate(traindataloader):\n",
        "        #forward pass\n",
        "        outputs = model(images)\n",
        "        loss = criterion(outputs, labels)\n",
        "\n",
        "        #backward pass and update weights.\n",
        "        optimizer.zero_grad()\n",
        "        loss.backward()\n",
        "        optimizer.step()\n",
        "\n",
        "        running_loss +=loss.item()\n",
        "    avg_loss.append(running_loss)\n",
        "    print(\"average loss in\", epoch,\" epoch: \",running_loss)\n",
        "\n",
        "\n",
        "\n",
        "#evaluate model on test set\n",
        "with torch.no_grad():\n",
        "  correct = 0\n",
        "  total = 0\n",
        "  for images, labels in testdataloader:\n",
        "    outputs = model(images)\n",
        "    j, predicted = torch.max(outputs.data, 1)\n",
        "    total += labels.size(0)\n",
        "    correct += (predicted == labels).sum().item()\n",
        "  print(\"Total images in test: \",total)\n",
        "  print('Accuracy of the model on 10000 test images: ', 100*correct/total)\n"
      ],
      "metadata": {
        "colab": {
          "base_uri": "https://localhost:8080/"
        },
        "id": "UMUipqPFxwHC",
        "outputId": "6e1b2e6a-ee8c-4320-edb7-f744283c4103"
      },
      "execution_count": null,
      "outputs": [
        {
          "output_type": "stream",
          "name": "stdout",
          "text": [
            "average loss in 0  epoch:  543.3471489846706\n",
            "average loss in 1  epoch:  302.00986448675394\n",
            "average loss in 2  epoch:  260.79849964380264\n",
            "average loss in 3  epoch:  234.0234716013074\n",
            "average loss in 4  epoch:  212.8185269497335\n",
            "average loss in 5  epoch:  195.0216837283224\n",
            "average loss in 6  epoch:  179.80883722007275\n",
            "average loss in 7  epoch:  166.4777315929532\n",
            "average loss in 8  epoch:  154.85307179391384\n",
            "average loss in 9  epoch:  144.80576051957905\n",
            "average loss in 10  epoch:  135.85136522352695\n",
            "average loss in 11  epoch:  127.85635523498058\n",
            "average loss in 12  epoch:  120.68164266832173\n",
            "average loss in 13  epoch:  114.35700754076242\n",
            "average loss in 14  epoch:  108.3674047626555\n",
            "Total images in test:  10000\n",
            "Accuracy of the model on 10000 test images:  96.5\n"
          ]
        }
      ]
    },
    {
      "cell_type": "markdown",
      "source": [
        "Increasing number of epochs to 15 increases accuracy on test data from 95.52% to 96.5%"
      ],
      "metadata": {
        "id": "wIwTkcS86CO5"
      }
    },
    {
      "cell_type": "markdown",
      "source": [
        "**Save the Model**"
      ],
      "metadata": {
        "id": "a-yPkAkyFPOz"
      }
    },
    {
      "cell_type": "code",
      "source": [
        "torch.save(model.state_dict(), 'Digitclassifier.pth')"
      ],
      "metadata": {
        "id": "ZjK7bGeB5_7m"
      },
      "execution_count": null,
      "outputs": []
    }
  ]
}